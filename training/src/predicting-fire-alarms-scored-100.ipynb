{
 "cells": [
  {
   "cell_type": "markdown",
   "id": "16e87c87",
   "metadata": {
    "papermill": {
     "duration": 0.01157,
     "end_time": "2022-09-13T14:57:53.114019",
     "exception": false,
     "start_time": "2022-09-13T14:57:53.102449",
     "status": "completed"
    },
    "tags": []
   },
   "source": [
    "# Predicting Fire Alarms using Smoke Detection Dataset"
   ]
  },
  {
   "cell_type": "markdown",
   "id": "cd580fa9",
   "metadata": {
    "papermill": {
     "duration": 0.010024,
     "end_time": "2022-09-13T14:57:53.135296",
     "exception": false,
     "start_time": "2022-09-13T14:57:53.125272",
     "status": "completed"
    },
    "tags": []
   },
   "source": [
    "The objective of this project it to predict the presence of fire in an area using parameters that the smoke detector sensores measure. Therefore, this project will not focus much on interpretation."
   ]
  },
  {
   "cell_type": "markdown",
   "id": "99f621e5",
   "metadata": {
    "papermill": {
     "duration": 0.009889,
     "end_time": "2022-09-13T14:57:53.155570",
     "exception": false,
     "start_time": "2022-09-13T14:57:53.145681",
     "status": "completed"
    },
    "tags": []
   },
   "source": [
    "## Importing libraries"
   ]
  },
  {
   "cell_type": "code",
   "execution_count": 1,
   "id": "abc0510d",
   "metadata": {
    "execution": {
     "iopub.execute_input": "2022-09-13T14:57:53.180145Z",
     "iopub.status.busy": "2022-09-13T14:57:53.179306Z",
     "iopub.status.idle": "2022-09-13T14:57:54.761891Z",
     "shell.execute_reply": "2022-09-13T14:57:54.760764Z"
    },
    "papermill": {
     "duration": 1.597283,
     "end_time": "2022-09-13T14:57:54.764720",
     "exception": false,
     "start_time": "2022-09-13T14:57:53.167437",
     "status": "completed"
    },
    "tags": []
   },
   "outputs": [],
   "source": [
    "# Reading the data and dataset manipulation\n",
    "import pandas as pd\n",
    "\n",
    "# Linear algebra\n",
    "import numpy as np\n",
    "\n",
    "# Graphs\n",
    "import matplotlib.pyplot as plt\n",
    "import seaborn as sns\n",
    "%matplotlib inline\n",
    "\n",
    "# Preprocessing\n",
    "from sklearn.preprocessing import StandardScaler, MinMaxScaler\n",
    "\n",
    "# Models\n",
    "from sklearn.linear_model import LogisticRegression\n",
    "from sklearn.ensemble import RandomForestClassifier, AdaBoostClassifier\n",
    "from sklearn.svm import SVC\n",
    "from sklearn.neighbors import KNeighborsClassifier\n",
    "\n",
    "# Pipeline\n",
    "from sklearn.pipeline import Pipeline\n",
    "\n",
    "# Model selection\n",
    "\n",
    "from sklearn.model_selection import GridSearchCV, train_test_split\n",
    "\n",
    "# Model evaluation\n",
    "from sklearn.metrics import accuracy_score, f1_score, recall_score, precision_score, auc"
   ]
  },
  {
   "cell_type": "markdown",
   "id": "bf91a682",
   "metadata": {
    "papermill": {
     "duration": 0.01039,
     "end_time": "2022-09-13T14:57:54.785481",
     "exception": false,
     "start_time": "2022-09-13T14:57:54.775091",
     "status": "completed"
    },
    "tags": []
   },
   "source": [
    "## Ignore warnings"
   ]
  },
  {
   "cell_type": "code",
   "execution_count": 2,
   "id": "9b95ab10",
   "metadata": {
    "execution": {
     "iopub.execute_input": "2022-09-13T14:57:54.808795Z",
     "iopub.status.busy": "2022-09-13T14:57:54.807774Z",
     "iopub.status.idle": "2022-09-13T14:57:54.812786Z",
     "shell.execute_reply": "2022-09-13T14:57:54.811873Z"
    },
    "papermill": {
     "duration": 0.019101,
     "end_time": "2022-09-13T14:57:54.814960",
     "exception": false,
     "start_time": "2022-09-13T14:57:54.795859",
     "status": "completed"
    },
    "tags": []
   },
   "outputs": [],
   "source": [
    "def warn(*args, **kwargs):\n",
    "    pass\n",
    "import warnings\n",
    "warnings.warn = warn"
   ]
  },
  {
   "cell_type": "markdown",
   "id": "92125377",
   "metadata": {
    "papermill": {
     "duration": 0.009986,
     "end_time": "2022-09-13T14:57:54.835758",
     "exception": false,
     "start_time": "2022-09-13T14:57:54.825772",
     "status": "completed"
    },
    "tags": []
   },
   "source": [
    "## Reading the dataset"
   ]
  },
  {
   "cell_type": "code",
   "execution_count": 3,
   "id": "6b112ed4",
   "metadata": {
    "execution": {
     "iopub.execute_input": "2022-09-13T14:57:54.858683Z",
     "iopub.status.busy": "2022-09-13T14:57:54.858284Z",
     "iopub.status.idle": "2022-09-13T14:57:54.863267Z",
     "shell.execute_reply": "2022-09-13T14:57:54.862136Z"
    },
    "papermill": {
     "duration": 0.018875,
     "end_time": "2022-09-13T14:57:54.865348",
     "exception": false,
     "start_time": "2022-09-13T14:57:54.846473",
     "status": "completed"
    },
    "tags": []
   },
   "outputs": [],
   "source": [
    "filename = '../input/smoke-detection-dataset/smoke_detection_iot.csv'"
   ]
  },
  {
   "cell_type": "code",
   "execution_count": 4,
   "id": "ac2d37fd",
   "metadata": {
    "execution": {
     "iopub.execute_input": "2022-09-13T14:57:54.888318Z",
     "iopub.status.busy": "2022-09-13T14:57:54.887628Z",
     "iopub.status.idle": "2022-09-13T14:57:55.112339Z",
     "shell.execute_reply": "2022-09-13T14:57:55.111257Z"
    },
    "papermill": {
     "duration": 0.239814,
     "end_time": "2022-09-13T14:57:55.115687",
     "exception": false,
     "start_time": "2022-09-13T14:57:54.875873",
     "status": "completed"
    },
    "tags": []
   },
   "outputs": [
    {
     "data": {
      "text/html": [
       "<div>\n",
       "<style scoped>\n",
       "    .dataframe tbody tr th:only-of-type {\n",
       "        vertical-align: middle;\n",
       "    }\n",
       "\n",
       "    .dataframe tbody tr th {\n",
       "        vertical-align: top;\n",
       "    }\n",
       "\n",
       "    .dataframe thead th {\n",
       "        text-align: right;\n",
       "    }\n",
       "</style>\n",
       "<table border=\"1\" class=\"dataframe\">\n",
       "  <thead>\n",
       "    <tr style=\"text-align: right;\">\n",
       "      <th></th>\n",
       "      <th>UTC</th>\n",
       "      <th>Temperature[C]</th>\n",
       "      <th>Humidity[%]</th>\n",
       "      <th>TVOC[ppb]</th>\n",
       "      <th>eCO2[ppm]</th>\n",
       "      <th>Raw H2</th>\n",
       "      <th>Raw Ethanol</th>\n",
       "      <th>Pressure[hPa]</th>\n",
       "      <th>PM1.0</th>\n",
       "      <th>PM2.5</th>\n",
       "      <th>NC0.5</th>\n",
       "      <th>NC1.0</th>\n",
       "      <th>NC2.5</th>\n",
       "      <th>CNT</th>\n",
       "      <th>Fire Alarm</th>\n",
       "    </tr>\n",
       "  </thead>\n",
       "  <tbody>\n",
       "    <tr>\n",
       "      <th>0</th>\n",
       "      <td>1654733331</td>\n",
       "      <td>20.000</td>\n",
       "      <td>57.36</td>\n",
       "      <td>0</td>\n",
       "      <td>400</td>\n",
       "      <td>12306</td>\n",
       "      <td>18520</td>\n",
       "      <td>939.735</td>\n",
       "      <td>0.0</td>\n",
       "      <td>0.0</td>\n",
       "      <td>0.0</td>\n",
       "      <td>0.0</td>\n",
       "      <td>0.0</td>\n",
       "      <td>0</td>\n",
       "      <td>0</td>\n",
       "    </tr>\n",
       "    <tr>\n",
       "      <th>1</th>\n",
       "      <td>1654733332</td>\n",
       "      <td>20.015</td>\n",
       "      <td>56.67</td>\n",
       "      <td>0</td>\n",
       "      <td>400</td>\n",
       "      <td>12345</td>\n",
       "      <td>18651</td>\n",
       "      <td>939.744</td>\n",
       "      <td>0.0</td>\n",
       "      <td>0.0</td>\n",
       "      <td>0.0</td>\n",
       "      <td>0.0</td>\n",
       "      <td>0.0</td>\n",
       "      <td>1</td>\n",
       "      <td>0</td>\n",
       "    </tr>\n",
       "    <tr>\n",
       "      <th>2</th>\n",
       "      <td>1654733333</td>\n",
       "      <td>20.029</td>\n",
       "      <td>55.96</td>\n",
       "      <td>0</td>\n",
       "      <td>400</td>\n",
       "      <td>12374</td>\n",
       "      <td>18764</td>\n",
       "      <td>939.738</td>\n",
       "      <td>0.0</td>\n",
       "      <td>0.0</td>\n",
       "      <td>0.0</td>\n",
       "      <td>0.0</td>\n",
       "      <td>0.0</td>\n",
       "      <td>2</td>\n",
       "      <td>0</td>\n",
       "    </tr>\n",
       "    <tr>\n",
       "      <th>3</th>\n",
       "      <td>1654733334</td>\n",
       "      <td>20.044</td>\n",
       "      <td>55.28</td>\n",
       "      <td>0</td>\n",
       "      <td>400</td>\n",
       "      <td>12390</td>\n",
       "      <td>18849</td>\n",
       "      <td>939.736</td>\n",
       "      <td>0.0</td>\n",
       "      <td>0.0</td>\n",
       "      <td>0.0</td>\n",
       "      <td>0.0</td>\n",
       "      <td>0.0</td>\n",
       "      <td>3</td>\n",
       "      <td>0</td>\n",
       "    </tr>\n",
       "    <tr>\n",
       "      <th>4</th>\n",
       "      <td>1654733335</td>\n",
       "      <td>20.059</td>\n",
       "      <td>54.69</td>\n",
       "      <td>0</td>\n",
       "      <td>400</td>\n",
       "      <td>12403</td>\n",
       "      <td>18921</td>\n",
       "      <td>939.744</td>\n",
       "      <td>0.0</td>\n",
       "      <td>0.0</td>\n",
       "      <td>0.0</td>\n",
       "      <td>0.0</td>\n",
       "      <td>0.0</td>\n",
       "      <td>4</td>\n",
       "      <td>0</td>\n",
       "    </tr>\n",
       "  </tbody>\n",
       "</table>\n",
       "</div>"
      ],
      "text/plain": [
       "          UTC  Temperature[C]  Humidity[%]  TVOC[ppb]  eCO2[ppm]  Raw H2  \\\n",
       "0  1654733331          20.000        57.36          0        400   12306   \n",
       "1  1654733332          20.015        56.67          0        400   12345   \n",
       "2  1654733333          20.029        55.96          0        400   12374   \n",
       "3  1654733334          20.044        55.28          0        400   12390   \n",
       "4  1654733335          20.059        54.69          0        400   12403   \n",
       "\n",
       "   Raw Ethanol  Pressure[hPa]  PM1.0  PM2.5  NC0.5  NC1.0  NC2.5  CNT  \\\n",
       "0        18520        939.735    0.0    0.0    0.0    0.0    0.0    0   \n",
       "1        18651        939.744    0.0    0.0    0.0    0.0    0.0    1   \n",
       "2        18764        939.738    0.0    0.0    0.0    0.0    0.0    2   \n",
       "3        18849        939.736    0.0    0.0    0.0    0.0    0.0    3   \n",
       "4        18921        939.744    0.0    0.0    0.0    0.0    0.0    4   \n",
       "\n",
       "   Fire Alarm  \n",
       "0           0  \n",
       "1           0  \n",
       "2           0  \n",
       "3           0  \n",
       "4           0  "
      ]
     },
     "execution_count": 4,
     "metadata": {},
     "output_type": "execute_result"
    }
   ],
   "source": [
    "data = pd.read_csv(filename, index_col=0)\n",
    "data.head()"
   ]
  },
  {
   "cell_type": "markdown",
   "id": "3faa2ce8",
   "metadata": {
    "papermill": {
     "duration": 0.010181,
     "end_time": "2022-09-13T14:57:55.136593",
     "exception": false,
     "start_time": "2022-09-13T14:57:55.126412",
     "status": "completed"
    },
    "tags": []
   },
   "source": [
    "## Exploring the dataset"
   ]
  },
  {
   "cell_type": "code",
   "execution_count": 5,
   "id": "74b51060",
   "metadata": {
    "execution": {
     "iopub.execute_input": "2022-09-13T14:57:55.160315Z",
     "iopub.status.busy": "2022-09-13T14:57:55.159879Z",
     "iopub.status.idle": "2022-09-13T14:57:55.166403Z",
     "shell.execute_reply": "2022-09-13T14:57:55.165440Z"
    },
    "papermill": {
     "duration": 0.021224,
     "end_time": "2022-09-13T14:57:55.168477",
     "exception": false,
     "start_time": "2022-09-13T14:57:55.147253",
     "status": "completed"
    },
    "tags": []
   },
   "outputs": [
    {
     "data": {
      "text/plain": [
       "(62630, 15)"
      ]
     },
     "execution_count": 5,
     "metadata": {},
     "output_type": "execute_result"
    }
   ],
   "source": [
    "data.shape"
   ]
  },
  {
   "cell_type": "code",
   "execution_count": 6,
   "id": "1acb2eab",
   "metadata": {
    "execution": {
     "iopub.execute_input": "2022-09-13T14:57:55.193747Z",
     "iopub.status.busy": "2022-09-13T14:57:55.192767Z",
     "iopub.status.idle": "2022-09-13T14:57:55.215034Z",
     "shell.execute_reply": "2022-09-13T14:57:55.214010Z"
    },
    "papermill": {
     "duration": 0.038072,
     "end_time": "2022-09-13T14:57:55.217746",
     "exception": false,
     "start_time": "2022-09-13T14:57:55.179674",
     "status": "completed"
    },
    "tags": []
   },
   "outputs": [
    {
     "name": "stdout",
     "output_type": "stream",
     "text": [
      "<class 'pandas.core.frame.DataFrame'>\n",
      "Index: 62630 entries, 0 to 62629\n",
      "Data columns (total 15 columns):\n",
      " #   Column          Non-Null Count  Dtype  \n",
      "---  ------          --------------  -----  \n",
      " 0   UTC             62630 non-null  int64  \n",
      " 1   Temperature[C]  62630 non-null  float64\n",
      " 2   Humidity[%]     62630 non-null  float64\n",
      " 3   TVOC[ppb]       62630 non-null  int64  \n",
      " 4   eCO2[ppm]       62630 non-null  int64  \n",
      " 5   Raw H2          62630 non-null  int64  \n",
      " 6   Raw Ethanol     62630 non-null  int64  \n",
      " 7   Pressure[hPa]   62630 non-null  float64\n",
      " 8   PM1.0           62630 non-null  float64\n",
      " 9   PM2.5           62630 non-null  float64\n",
      " 10  NC0.5           62630 non-null  float64\n",
      " 11  NC1.0           62630 non-null  float64\n",
      " 12  NC2.5           62630 non-null  float64\n",
      " 13  CNT             62630 non-null  int64  \n",
      " 14  Fire Alarm      62630 non-null  int64  \n",
      "dtypes: float64(8), int64(7)\n",
      "memory usage: 7.6 MB\n"
     ]
    }
   ],
   "source": [
    "data.info()"
   ]
  },
  {
   "cell_type": "markdown",
   "id": "9ff80512",
   "metadata": {
    "papermill": {
     "duration": 0.01081,
     "end_time": "2022-09-13T14:57:55.240229",
     "exception": false,
     "start_time": "2022-09-13T14:57:55.229419",
     "status": "completed"
    },
    "tags": []
   },
   "source": [
    "There are no missing values in the dataset, and all of the data is numeric."
   ]
  },
  {
   "cell_type": "code",
   "execution_count": 7,
   "id": "0b16af2f",
   "metadata": {
    "execution": {
     "iopub.execute_input": "2022-09-13T14:57:55.265021Z",
     "iopub.status.busy": "2022-09-13T14:57:55.264376Z",
     "iopub.status.idle": "2022-09-13T14:57:55.354573Z",
     "shell.execute_reply": "2022-09-13T14:57:55.352910Z"
    },
    "papermill": {
     "duration": 0.10641,
     "end_time": "2022-09-13T14:57:55.357966",
     "exception": false,
     "start_time": "2022-09-13T14:57:55.251556",
     "status": "completed"
    },
    "tags": []
   },
   "outputs": [
    {
     "data": {
      "text/html": [
       "<div>\n",
       "<style scoped>\n",
       "    .dataframe tbody tr th:only-of-type {\n",
       "        vertical-align: middle;\n",
       "    }\n",
       "\n",
       "    .dataframe tbody tr th {\n",
       "        vertical-align: top;\n",
       "    }\n",
       "\n",
       "    .dataframe thead th {\n",
       "        text-align: right;\n",
       "    }\n",
       "</style>\n",
       "<table border=\"1\" class=\"dataframe\">\n",
       "  <thead>\n",
       "    <tr style=\"text-align: right;\">\n",
       "      <th></th>\n",
       "      <th>UTC</th>\n",
       "      <th>Temperature[C]</th>\n",
       "      <th>Humidity[%]</th>\n",
       "      <th>TVOC[ppb]</th>\n",
       "      <th>eCO2[ppm]</th>\n",
       "      <th>Raw H2</th>\n",
       "      <th>Raw Ethanol</th>\n",
       "      <th>Pressure[hPa]</th>\n",
       "      <th>PM1.0</th>\n",
       "      <th>PM2.5</th>\n",
       "      <th>NC0.5</th>\n",
       "      <th>NC1.0</th>\n",
       "      <th>NC2.5</th>\n",
       "      <th>CNT</th>\n",
       "      <th>Fire Alarm</th>\n",
       "    </tr>\n",
       "  </thead>\n",
       "  <tbody>\n",
       "    <tr>\n",
       "      <th>count</th>\n",
       "      <td>6.263000e+04</td>\n",
       "      <td>62630.000000</td>\n",
       "      <td>62630.000000</td>\n",
       "      <td>62630.000000</td>\n",
       "      <td>62630.000000</td>\n",
       "      <td>62630.000000</td>\n",
       "      <td>62630.000000</td>\n",
       "      <td>62630.000000</td>\n",
       "      <td>62630.000000</td>\n",
       "      <td>62630.000000</td>\n",
       "      <td>62630.000000</td>\n",
       "      <td>62630.000000</td>\n",
       "      <td>62630.000000</td>\n",
       "      <td>62630.000000</td>\n",
       "      <td>62630.000000</td>\n",
       "    </tr>\n",
       "    <tr>\n",
       "      <th>mean</th>\n",
       "      <td>1.654792e+09</td>\n",
       "      <td>15.970424</td>\n",
       "      <td>48.539499</td>\n",
       "      <td>1942.057528</td>\n",
       "      <td>670.021044</td>\n",
       "      <td>12942.453936</td>\n",
       "      <td>19754.257912</td>\n",
       "      <td>938.627649</td>\n",
       "      <td>100.594309</td>\n",
       "      <td>184.467770</td>\n",
       "      <td>491.463608</td>\n",
       "      <td>203.586487</td>\n",
       "      <td>80.049042</td>\n",
       "      <td>10511.386157</td>\n",
       "      <td>0.714626</td>\n",
       "    </tr>\n",
       "    <tr>\n",
       "      <th>std</th>\n",
       "      <td>1.100025e+05</td>\n",
       "      <td>14.359576</td>\n",
       "      <td>8.865367</td>\n",
       "      <td>7811.589055</td>\n",
       "      <td>1905.885439</td>\n",
       "      <td>272.464305</td>\n",
       "      <td>609.513156</td>\n",
       "      <td>1.331344</td>\n",
       "      <td>922.524245</td>\n",
       "      <td>1976.305615</td>\n",
       "      <td>4265.661251</td>\n",
       "      <td>2214.738556</td>\n",
       "      <td>1083.383189</td>\n",
       "      <td>7597.870997</td>\n",
       "      <td>0.451596</td>\n",
       "    </tr>\n",
       "    <tr>\n",
       "      <th>min</th>\n",
       "      <td>1.654712e+09</td>\n",
       "      <td>-22.010000</td>\n",
       "      <td>10.740000</td>\n",
       "      <td>0.000000</td>\n",
       "      <td>400.000000</td>\n",
       "      <td>10668.000000</td>\n",
       "      <td>15317.000000</td>\n",
       "      <td>930.852000</td>\n",
       "      <td>0.000000</td>\n",
       "      <td>0.000000</td>\n",
       "      <td>0.000000</td>\n",
       "      <td>0.000000</td>\n",
       "      <td>0.000000</td>\n",
       "      <td>0.000000</td>\n",
       "      <td>0.000000</td>\n",
       "    </tr>\n",
       "    <tr>\n",
       "      <th>25%</th>\n",
       "      <td>1.654743e+09</td>\n",
       "      <td>10.994250</td>\n",
       "      <td>47.530000</td>\n",
       "      <td>130.000000</td>\n",
       "      <td>400.000000</td>\n",
       "      <td>12830.000000</td>\n",
       "      <td>19435.000000</td>\n",
       "      <td>938.700000</td>\n",
       "      <td>1.280000</td>\n",
       "      <td>1.340000</td>\n",
       "      <td>8.820000</td>\n",
       "      <td>1.384000</td>\n",
       "      <td>0.033000</td>\n",
       "      <td>3625.250000</td>\n",
       "      <td>0.000000</td>\n",
       "    </tr>\n",
       "    <tr>\n",
       "      <th>50%</th>\n",
       "      <td>1.654762e+09</td>\n",
       "      <td>20.130000</td>\n",
       "      <td>50.150000</td>\n",
       "      <td>981.000000</td>\n",
       "      <td>400.000000</td>\n",
       "      <td>12924.000000</td>\n",
       "      <td>19501.000000</td>\n",
       "      <td>938.816000</td>\n",
       "      <td>1.810000</td>\n",
       "      <td>1.880000</td>\n",
       "      <td>12.450000</td>\n",
       "      <td>1.943000</td>\n",
       "      <td>0.044000</td>\n",
       "      <td>9336.000000</td>\n",
       "      <td>1.000000</td>\n",
       "    </tr>\n",
       "    <tr>\n",
       "      <th>75%</th>\n",
       "      <td>1.654778e+09</td>\n",
       "      <td>25.409500</td>\n",
       "      <td>53.240000</td>\n",
       "      <td>1189.000000</td>\n",
       "      <td>438.000000</td>\n",
       "      <td>13109.000000</td>\n",
       "      <td>20078.000000</td>\n",
       "      <td>939.418000</td>\n",
       "      <td>2.090000</td>\n",
       "      <td>2.180000</td>\n",
       "      <td>14.420000</td>\n",
       "      <td>2.249000</td>\n",
       "      <td>0.051000</td>\n",
       "      <td>17164.750000</td>\n",
       "      <td>1.000000</td>\n",
       "    </tr>\n",
       "    <tr>\n",
       "      <th>max</th>\n",
       "      <td>1.655130e+09</td>\n",
       "      <td>59.930000</td>\n",
       "      <td>75.200000</td>\n",
       "      <td>60000.000000</td>\n",
       "      <td>60000.000000</td>\n",
       "      <td>13803.000000</td>\n",
       "      <td>21410.000000</td>\n",
       "      <td>939.861000</td>\n",
       "      <td>14333.690000</td>\n",
       "      <td>45432.260000</td>\n",
       "      <td>61482.030000</td>\n",
       "      <td>51914.680000</td>\n",
       "      <td>30026.438000</td>\n",
       "      <td>24993.000000</td>\n",
       "      <td>1.000000</td>\n",
       "    </tr>\n",
       "  </tbody>\n",
       "</table>\n",
       "</div>"
      ],
      "text/plain": [
       "                UTC  Temperature[C]   Humidity[%]     TVOC[ppb]     eCO2[ppm]  \\\n",
       "count  6.263000e+04    62630.000000  62630.000000  62630.000000  62630.000000   \n",
       "mean   1.654792e+09       15.970424     48.539499   1942.057528    670.021044   \n",
       "std    1.100025e+05       14.359576      8.865367   7811.589055   1905.885439   \n",
       "min    1.654712e+09      -22.010000     10.740000      0.000000    400.000000   \n",
       "25%    1.654743e+09       10.994250     47.530000    130.000000    400.000000   \n",
       "50%    1.654762e+09       20.130000     50.150000    981.000000    400.000000   \n",
       "75%    1.654778e+09       25.409500     53.240000   1189.000000    438.000000   \n",
       "max    1.655130e+09       59.930000     75.200000  60000.000000  60000.000000   \n",
       "\n",
       "             Raw H2   Raw Ethanol  Pressure[hPa]         PM1.0         PM2.5  \\\n",
       "count  62630.000000  62630.000000   62630.000000  62630.000000  62630.000000   \n",
       "mean   12942.453936  19754.257912     938.627649    100.594309    184.467770   \n",
       "std      272.464305    609.513156       1.331344    922.524245   1976.305615   \n",
       "min    10668.000000  15317.000000     930.852000      0.000000      0.000000   \n",
       "25%    12830.000000  19435.000000     938.700000      1.280000      1.340000   \n",
       "50%    12924.000000  19501.000000     938.816000      1.810000      1.880000   \n",
       "75%    13109.000000  20078.000000     939.418000      2.090000      2.180000   \n",
       "max    13803.000000  21410.000000     939.861000  14333.690000  45432.260000   \n",
       "\n",
       "              NC0.5         NC1.0         NC2.5           CNT    Fire Alarm  \n",
       "count  62630.000000  62630.000000  62630.000000  62630.000000  62630.000000  \n",
       "mean     491.463608    203.586487     80.049042  10511.386157      0.714626  \n",
       "std     4265.661251   2214.738556   1083.383189   7597.870997      0.451596  \n",
       "min        0.000000      0.000000      0.000000      0.000000      0.000000  \n",
       "25%        8.820000      1.384000      0.033000   3625.250000      0.000000  \n",
       "50%       12.450000      1.943000      0.044000   9336.000000      1.000000  \n",
       "75%       14.420000      2.249000      0.051000  17164.750000      1.000000  \n",
       "max    61482.030000  51914.680000  30026.438000  24993.000000      1.000000  "
      ]
     },
     "execution_count": 7,
     "metadata": {},
     "output_type": "execute_result"
    }
   ],
   "source": [
    "data.describe()"
   ]
  },
  {
   "cell_type": "code",
   "execution_count": 8,
   "id": "63db8a3b",
   "metadata": {
    "execution": {
     "iopub.execute_input": "2022-09-13T14:57:55.384042Z",
     "iopub.status.busy": "2022-09-13T14:57:55.383502Z",
     "iopub.status.idle": "2022-09-13T14:57:55.432011Z",
     "shell.execute_reply": "2022-09-13T14:57:55.430438Z"
    },
    "papermill": {
     "duration": 0.065138,
     "end_time": "2022-09-13T14:57:55.435320",
     "exception": false,
     "start_time": "2022-09-13T14:57:55.370182",
     "status": "completed"
    },
    "tags": []
   },
   "outputs": [
    {
     "data": {
      "text/plain": [
       "UTC               0.0\n",
       "Temperature[C]    0.0\n",
       "Humidity[%]       0.0\n",
       "TVOC[ppb]         0.0\n",
       "eCO2[ppm]         0.0\n",
       "Raw H2            0.0\n",
       "Raw Ethanol       0.0\n",
       "Pressure[hPa]     0.0\n",
       "PM1.0             0.0\n",
       "PM2.5             0.0\n",
       "NC0.5             0.0\n",
       "NC1.0             0.0\n",
       "NC2.5             0.0\n",
       "CNT               0.0\n",
       "Fire Alarm        0.0\n",
       "dtype: float64"
      ]
     },
     "execution_count": 8,
     "metadata": {},
     "output_type": "execute_result"
    }
   ],
   "source": [
    "data[data.duplicated()].sum()"
   ]
  },
  {
   "cell_type": "markdown",
   "id": "22155bd4",
   "metadata": {
    "papermill": {
     "duration": 0.011168,
     "end_time": "2022-09-13T14:57:55.458674",
     "exception": false,
     "start_time": "2022-09-13T14:57:55.447506",
     "status": "completed"
    },
    "tags": []
   },
   "source": [
    "No duplicates are present in the dataset"
   ]
  },
  {
   "cell_type": "code",
   "execution_count": 9,
   "id": "9017563d",
   "metadata": {
    "execution": {
     "iopub.execute_input": "2022-09-13T14:57:55.484136Z",
     "iopub.status.busy": "2022-09-13T14:57:55.483275Z",
     "iopub.status.idle": "2022-09-13T14:57:55.542421Z",
     "shell.execute_reply": "2022-09-13T14:57:55.540744Z"
    },
    "papermill": {
     "duration": 0.075042,
     "end_time": "2022-09-13T14:57:55.545402",
     "exception": false,
     "start_time": "2022-09-13T14:57:55.470360",
     "status": "completed"
    },
    "tags": []
   },
   "outputs": [
    {
     "data": {
      "text/plain": [
       "CNT               0.673762\n",
       "Humidity[%]       0.399846\n",
       "Pressure[hPa]     0.249797\n",
       "Raw H2            0.107007\n",
       "NC2.5            -0.057707\n",
       "NC1.0            -0.082828\n",
       "PM2.5            -0.084916\n",
       "eCO2[ppm]        -0.097006\n",
       "PM1.0            -0.110552\n",
       "NC0.5            -0.128118\n",
       "Temperature[C]   -0.163902\n",
       "TVOC[ppb]        -0.214743\n",
       "Raw Ethanol      -0.340652\n",
       "UTC              -0.389404\n",
       "Name: Fire Alarm, dtype: float64"
      ]
     },
     "execution_count": 9,
     "metadata": {},
     "output_type": "execute_result"
    }
   ],
   "source": [
    "data.corr()['Fire Alarm'][:-1].sort_values(ascending=False)"
   ]
  },
  {
   "cell_type": "code",
   "execution_count": 10,
   "id": "f4d16509",
   "metadata": {
    "execution": {
     "iopub.execute_input": "2022-09-13T14:57:55.570868Z",
     "iopub.status.busy": "2022-09-13T14:57:55.570217Z",
     "iopub.status.idle": "2022-09-13T14:57:56.098293Z",
     "shell.execute_reply": "2022-09-13T14:57:56.096276Z"
    },
    "papermill": {
     "duration": 0.543954,
     "end_time": "2022-09-13T14:57:56.101131",
     "exception": false,
     "start_time": "2022-09-13T14:57:55.557177",
     "status": "completed"
    },
    "tags": []
   },
   "outputs": [
    {
     "data": {
      "image/png": "[encoded data removed]",
      "text/plain": [
       "<Figure size 640x480 with 2 Axes>"
      ]
     },
     "metadata": {},
     "output_type": "display_data"
    }
   ],
   "source": [
    "ax = sns.heatmap(data.corr())"
   ]
  },
  {
   "cell_type": "code",
   "execution_count": 11,
   "id": "aa3a4f4f",
   "metadata": {
    "execution": {
     "iopub.execute_input": "2022-09-13T14:57:56.127225Z",
     "iopub.status.busy": "2022-09-13T14:57:56.126761Z",
     "iopub.status.idle": "2022-09-13T14:57:56.136459Z",
     "shell.execute_reply": "2022-09-13T14:57:56.134812Z"
    },
    "papermill": {
     "duration": 0.025628,
     "end_time": "2022-09-13T14:57:56.139041",
     "exception": false,
     "start_time": "2022-09-13T14:57:56.113413",
     "status": "completed"
    },
    "tags": []
   },
   "outputs": [],
   "source": [
    "target_column = 'Fire Alarm'\n",
    "X = data.loc[:, data.columns != target_column]\n",
    "y = data[[target_column]]"
   ]
  },
  {
   "cell_type": "markdown",
   "id": "d74d4ffa",
   "metadata": {
    "papermill": {
     "duration": 0.011643,
     "end_time": "2022-09-13T14:57:56.162891",
     "exception": false,
     "start_time": "2022-09-13T14:57:56.151248",
     "status": "completed"
    },
    "tags": []
   },
   "source": [
    "## Scaling the feature columns"
   ]
  },
  {
   "cell_type": "code",
   "execution_count": 12,
   "id": "49bd50ff",
   "metadata": {
    "execution": {
     "iopub.execute_input": "2022-09-13T14:57:56.188735Z",
     "iopub.status.busy": "2022-09-13T14:57:56.188322Z",
     "iopub.status.idle": "2022-09-13T14:57:56.233553Z",
     "shell.execute_reply": "2022-09-13T14:57:56.232132Z"
    },
    "papermill": {
     "duration": 0.061021,
     "end_time": "2022-09-13T14:57:56.235918",
     "exception": false,
     "start_time": "2022-09-13T14:57:56.174897",
     "status": "completed"
    },
    "tags": []
   },
   "outputs": [
    {
     "data": {
      "text/html": [
       "<div>\n",
       "<style scoped>\n",
       "    .dataframe tbody tr th:only-of-type {\n",
       "        vertical-align: middle;\n",
       "    }\n",
       "\n",
       "    .dataframe tbody tr th {\n",
       "        vertical-align: top;\n",
       "    }\n",
       "\n",
       "    .dataframe thead th {\n",
       "        text-align: right;\n",
       "    }\n",
       "</style>\n",
       "<table border=\"1\" class=\"dataframe\">\n",
       "  <thead>\n",
       "    <tr style=\"text-align: right;\">\n",
       "      <th></th>\n",
       "      <th>UTC</th>\n",
       "      <th>Temperature[C]</th>\n",
       "      <th>Humidity[%]</th>\n",
       "      <th>TVOC[ppb]</th>\n",
       "      <th>eCO2[ppm]</th>\n",
       "      <th>Raw H2</th>\n",
       "      <th>Raw Ethanol</th>\n",
       "      <th>Pressure[hPa]</th>\n",
       "      <th>PM1.0</th>\n",
       "      <th>PM2.5</th>\n",
       "      <th>NC0.5</th>\n",
       "      <th>NC1.0</th>\n",
       "      <th>NC2.5</th>\n",
       "      <th>CNT</th>\n",
       "    </tr>\n",
       "  </thead>\n",
       "  <tbody>\n",
       "    <tr>\n",
       "      <th>0</th>\n",
       "      <td>0.050600</td>\n",
       "      <td>0.512692</td>\n",
       "      <td>0.723239</td>\n",
       "      <td>0.0</td>\n",
       "      <td>0.0</td>\n",
       "      <td>0.522488</td>\n",
       "      <td>0.525685</td>\n",
       "      <td>0.986014</td>\n",
       "      <td>0.0</td>\n",
       "      <td>0.0</td>\n",
       "      <td>0.0</td>\n",
       "      <td>0.0</td>\n",
       "      <td>0.0</td>\n",
       "      <td>0.00000</td>\n",
       "    </tr>\n",
       "    <tr>\n",
       "      <th>1</th>\n",
       "      <td>0.050603</td>\n",
       "      <td>0.512875</td>\n",
       "      <td>0.712535</td>\n",
       "      <td>0.0</td>\n",
       "      <td>0.0</td>\n",
       "      <td>0.534928</td>\n",
       "      <td>0.547185</td>\n",
       "      <td>0.987013</td>\n",
       "      <td>0.0</td>\n",
       "      <td>0.0</td>\n",
       "      <td>0.0</td>\n",
       "      <td>0.0</td>\n",
       "      <td>0.0</td>\n",
       "      <td>0.00004</td>\n",
       "    </tr>\n",
       "    <tr>\n",
       "      <th>2</th>\n",
       "      <td>0.050605</td>\n",
       "      <td>0.513046</td>\n",
       "      <td>0.701520</td>\n",
       "      <td>0.0</td>\n",
       "      <td>0.0</td>\n",
       "      <td>0.544179</td>\n",
       "      <td>0.565731</td>\n",
       "      <td>0.986347</td>\n",
       "      <td>0.0</td>\n",
       "      <td>0.0</td>\n",
       "      <td>0.0</td>\n",
       "      <td>0.0</td>\n",
       "      <td>0.0</td>\n",
       "      <td>0.00008</td>\n",
       "    </tr>\n",
       "    <tr>\n",
       "      <th>3</th>\n",
       "      <td>0.050607</td>\n",
       "      <td>0.513229</td>\n",
       "      <td>0.690971</td>\n",
       "      <td>0.0</td>\n",
       "      <td>0.0</td>\n",
       "      <td>0.549282</td>\n",
       "      <td>0.579682</td>\n",
       "      <td>0.986125</td>\n",
       "      <td>0.0</td>\n",
       "      <td>0.0</td>\n",
       "      <td>0.0</td>\n",
       "      <td>0.0</td>\n",
       "      <td>0.0</td>\n",
       "      <td>0.00012</td>\n",
       "    </tr>\n",
       "    <tr>\n",
       "      <th>4</th>\n",
       "      <td>0.050610</td>\n",
       "      <td>0.513412</td>\n",
       "      <td>0.681818</td>\n",
       "      <td>0.0</td>\n",
       "      <td>0.0</td>\n",
       "      <td>0.553429</td>\n",
       "      <td>0.591498</td>\n",
       "      <td>0.987013</td>\n",
       "      <td>0.0</td>\n",
       "      <td>0.0</td>\n",
       "      <td>0.0</td>\n",
       "      <td>0.0</td>\n",
       "      <td>0.0</td>\n",
       "      <td>0.00016</td>\n",
       "    </tr>\n",
       "  </tbody>\n",
       "</table>\n",
       "</div>"
      ],
      "text/plain": [
       "        UTC  Temperature[C]  Humidity[%]  TVOC[ppb]  eCO2[ppm]    Raw H2  \\\n",
       "0  0.050600        0.512692     0.723239        0.0        0.0  0.522488   \n",
       "1  0.050603        0.512875     0.712535        0.0        0.0  0.534928   \n",
       "2  0.050605        0.513046     0.701520        0.0        0.0  0.544179   \n",
       "3  0.050607        0.513229     0.690971        0.0        0.0  0.549282   \n",
       "4  0.050610        0.513412     0.681818        0.0        0.0  0.553429   \n",
       "\n",
       "   Raw Ethanol  Pressure[hPa]  PM1.0  PM2.5  NC0.5  NC1.0  NC2.5      CNT  \n",
       "0     0.525685       0.986014    0.0    0.0    0.0    0.0    0.0  0.00000  \n",
       "1     0.547185       0.987013    0.0    0.0    0.0    0.0    0.0  0.00004  \n",
       "2     0.565731       0.986347    0.0    0.0    0.0    0.0    0.0  0.00008  \n",
       "3     0.579682       0.986125    0.0    0.0    0.0    0.0    0.0  0.00012  \n",
       "4     0.591498       0.987013    0.0    0.0    0.0    0.0    0.0  0.00016  "
      ]
     },
     "execution_count": 12,
     "metadata": {},
     "output_type": "execute_result"
    }
   ],
   "source": [
    "scaler = MinMaxScaler()\n",
    "columns = X.columns\n",
    "X = scaler.fit_transform(X)\n",
    "X = pd.DataFrame(X, columns=columns)\n",
    "X.head()"
   ]
  },
  {
   "cell_type": "code",
   "execution_count": 14,
   "id": "d1054105",
   "metadata": {},
   "outputs": [
    {
     "data": {
      "text/plain": [
       "['../out/minmax_scaler.joblib']"
      ]
     },
     "execution_count": 14,
     "metadata": {},
     "output_type": "execute_result"
    }
   ],
   "source": [
    "import joblib\n",
    "joblib.dump(scaler, '../out/minmax_scaler.joblib')"
   ]
  },
  {
   "cell_type": "markdown",
   "id": "b7f45262",
   "metadata": {
    "papermill": {
     "duration": 0.011851,
     "end_time": "2022-09-13T14:57:56.260187",
     "exception": false,
     "start_time": "2022-09-13T14:57:56.248336",
     "status": "completed"
    },
    "tags": []
   },
   "source": [
    "## Check for unbalanced classes"
   ]
  },
  {
   "cell_type": "code",
   "execution_count": 13,
   "id": "22662f51",
   "metadata": {
    "execution": {
     "iopub.execute_input": "2022-09-13T14:57:56.288294Z",
     "iopub.status.busy": "2022-09-13T14:57:56.287856Z",
     "iopub.status.idle": "2022-09-13T14:57:56.296498Z",
     "shell.execute_reply": "2022-09-13T14:57:56.295608Z"
    },
    "papermill": {
     "duration": 0.026415,
     "end_time": "2022-09-13T14:57:56.298804",
     "exception": false,
     "start_time": "2022-09-13T14:57:56.272389",
     "status": "completed"
    },
    "tags": []
   },
   "outputs": [
    {
     "data": {
      "text/plain": [
       "Fire Alarm\n",
       "1    0.714626\n",
       "0    0.285374\n",
       "Name: proportion, dtype: float64"
      ]
     },
     "execution_count": 13,
     "metadata": {},
     "output_type": "execute_result"
    }
   ],
   "source": [
    "data['Fire Alarm'].value_counts(normalize=True)"
   ]
  },
  {
   "cell_type": "markdown",
   "id": "1c46f8fb",
   "metadata": {
    "papermill": {
     "duration": 0.012151,
     "end_time": "2022-09-13T14:57:56.323503",
     "exception": false,
     "start_time": "2022-09-13T14:57:56.311352",
     "status": "completed"
    },
    "tags": []
   },
   "source": [
    "Here we can see that there is an imbalance in the classes of our target label"
   ]
  },
  {
   "cell_type": "markdown",
   "id": "3997c6fc",
   "metadata": {
    "papermill": {
     "duration": 0.012356,
     "end_time": "2022-09-13T14:57:56.348219",
     "exception": false,
     "start_time": "2022-09-13T14:57:56.335863",
     "status": "completed"
    },
    "tags": []
   },
   "source": [
    "## Split data into train and test splits"
   ]
  },
  {
   "cell_type": "markdown",
   "id": "fa31910d",
   "metadata": {
    "papermill": {
     "duration": 0.012108,
     "end_time": "2022-09-13T14:57:56.372828",
     "exception": false,
     "start_time": "2022-09-13T14:57:56.360720",
     "status": "completed"
    },
    "tags": []
   },
   "source": [
    "**Note:** since there are imbalance between classes we will stratify the train and test splits"
   ]
  },
  {
   "cell_type": "code",
   "execution_count": 14,
   "id": "f8bb7b00",
   "metadata": {
    "execution": {
     "iopub.execute_input": "2022-09-13T14:57:56.399786Z",
     "iopub.status.busy": "2022-09-13T14:57:56.399397Z",
     "iopub.status.idle": "2022-09-13T14:57:56.680800Z",
     "shell.execute_reply": "2022-09-13T14:57:56.679541Z"
    },
    "papermill": {
     "duration": 0.298238,
     "end_time": "2022-09-13T14:57:56.683567",
     "exception": false,
     "start_time": "2022-09-13T14:57:56.385329",
     "status": "completed"
    },
    "tags": []
   },
   "outputs": [],
   "source": [
    "X_train, X_test, y_train, y_test = train_test_split(X, y, stratify=y, test_size=0.2, random_state=42)"
   ]
  },
  {
   "cell_type": "code",
   "execution_count": 15,
   "id": "857768a4",
   "metadata": {
    "execution": {
     "iopub.execute_input": "2022-09-13T14:57:56.710857Z",
     "iopub.status.busy": "2022-09-13T14:57:56.709843Z",
     "iopub.status.idle": "2022-09-13T14:57:56.718945Z",
     "shell.execute_reply": "2022-09-13T14:57:56.718129Z"
    },
    "papermill": {
     "duration": 0.025011,
     "end_time": "2022-09-13T14:57:56.721168",
     "exception": false,
     "start_time": "2022-09-13T14:57:56.696157",
     "status": "completed"
    },
    "tags": []
   },
   "outputs": [
    {
     "data": {
      "text/plain": [
       "(12526, 14)"
      ]
     },
     "execution_count": 15,
     "metadata": {},
     "output_type": "execute_result"
    }
   ],
   "source": [
    "X_test.shape"
   ]
  },
  {
   "cell_type": "code",
   "execution_count": 16,
   "id": "5e9a8359",
   "metadata": {
    "execution": {
     "iopub.execute_input": "2022-09-13T14:57:56.748883Z",
     "iopub.status.busy": "2022-09-13T14:57:56.747622Z",
     "iopub.status.idle": "2022-09-13T14:57:56.759730Z",
     "shell.execute_reply": "2022-09-13T14:57:56.758584Z"
    },
    "papermill": {
     "duration": 0.028398,
     "end_time": "2022-09-13T14:57:56.762118",
     "exception": false,
     "start_time": "2022-09-13T14:57:56.733720",
     "status": "completed"
    },
    "tags": []
   },
   "outputs": [
    {
     "data": {
      "text/plain": [
       "Fire Alarm\n",
       "1             0.714634\n",
       "0             0.285366\n",
       "Name: proportion, dtype: float64"
      ]
     },
     "execution_count": 16,
     "metadata": {},
     "output_type": "execute_result"
    }
   ],
   "source": [
    "y_train.value_counts(normalize=True)"
   ]
  },
  {
   "cell_type": "code",
   "execution_count": 17,
   "id": "47877593",
   "metadata": {
    "execution": {
     "iopub.execute_input": "2022-09-13T14:57:56.790026Z",
     "iopub.status.busy": "2022-09-13T14:57:56.789356Z",
     "iopub.status.idle": "2022-09-13T14:57:56.800177Z",
     "shell.execute_reply": "2022-09-13T14:57:56.799105Z"
    },
    "papermill": {
     "duration": 0.027666,
     "end_time": "2022-09-13T14:57:56.802361",
     "exception": false,
     "start_time": "2022-09-13T14:57:56.774695",
     "status": "completed"
    },
    "tags": []
   },
   "outputs": [
    {
     "data": {
      "text/plain": [
       "Fire Alarm\n",
       "1             0.714594\n",
       "0             0.285406\n",
       "Name: proportion, dtype: float64"
      ]
     },
     "execution_count": 17,
     "metadata": {},
     "output_type": "execute_result"
    }
   ],
   "source": [
    "y_test.value_counts(normalize=True)"
   ]
  },
  {
   "cell_type": "markdown",
   "id": "e18e1a4c",
   "metadata": {
    "papermill": {
     "duration": 0.012857,
     "end_time": "2022-09-13T14:57:56.828340",
     "exception": false,
     "start_time": "2022-09-13T14:57:56.815483",
     "status": "completed"
    },
    "tags": []
   },
   "source": [
    "The splits hold the same class ratio as the dataset"
   ]
  },
  {
   "cell_type": "markdown",
   "id": "363ee446",
   "metadata": {
    "papermill": {
     "duration": 0.012936,
     "end_time": "2022-09-13T14:57:56.853979",
     "exception": false,
     "start_time": "2022-09-13T14:57:56.841043",
     "status": "completed"
    },
    "tags": []
   },
   "source": [
    "## Models"
   ]
  },
  {
   "cell_type": "markdown",
   "id": "c24e6ecc",
   "metadata": {
    "papermill": {
     "duration": 0.012292,
     "end_time": "2022-09-13T14:57:56.879007",
     "exception": false,
     "start_time": "2022-09-13T14:57:56.866715",
     "status": "completed"
    },
    "tags": []
   },
   "source": [
    "### Random state"
   ]
  },
  {
   "cell_type": "code",
   "execution_count": 18,
   "id": "5f17f1db",
   "metadata": {
    "execution": {
     "iopub.execute_input": "2022-09-13T14:57:56.906527Z",
     "iopub.status.busy": "2022-09-13T14:57:56.905874Z",
     "iopub.status.idle": "2022-09-13T14:57:56.910713Z",
     "shell.execute_reply": "2022-09-13T14:57:56.909825Z"
    },
    "papermill": {
     "duration": 0.021189,
     "end_time": "2022-09-13T14:57:56.912982",
     "exception": false,
     "start_time": "2022-09-13T14:57:56.891793",
     "status": "completed"
    },
    "tags": []
   },
   "outputs": [],
   "source": [
    "rs = 42"
   ]
  },
  {
   "cell_type": "markdown",
   "id": "7011ec44",
   "metadata": {
    "papermill": {
     "duration": 0.012365,
     "end_time": "2022-09-13T14:57:56.938799",
     "exception": false,
     "start_time": "2022-09-13T14:57:56.926434",
     "status": "completed"
    },
    "tags": []
   },
   "source": [
    "### Create class weights"
   ]
  },
  {
   "cell_type": "code",
   "execution_count": 19,
   "id": "a0e7f9f3",
   "metadata": {
    "execution": {
     "iopub.execute_input": "2022-09-13T14:57:56.966436Z",
     "iopub.status.busy": "2022-09-13T14:57:56.966015Z",
     "iopub.status.idle": "2022-09-13T14:57:56.977692Z",
     "shell.execute_reply": "2022-09-13T14:57:56.976475Z"
    },
    "papermill": {
     "duration": 0.028576,
     "end_time": "2022-09-13T14:57:56.980449",
     "exception": false,
     "start_time": "2022-09-13T14:57:56.951873",
     "status": "completed"
    },
    "tags": []
   },
   "outputs": [],
   "source": [
    "class_weight = {}\n",
    "class_weight[0] = y_test.value_counts(normalize=True)[1]\n",
    "class_weight[1] = y_test.value_counts(normalize=True)[0]"
   ]
  },
  {
   "cell_type": "markdown",
   "id": "5a2a50b4",
   "metadata": {
    "papermill": {
     "duration": 0.012483,
     "end_time": "2022-09-13T14:57:57.005967",
     "exception": false,
     "start_time": "2022-09-13T14:57:56.993484",
     "status": "completed"
    },
    "tags": []
   },
   "source": [
    "### Models"
   ]
  },
  {
   "cell_type": "code",
   "execution_count": 20,
   "id": "49fd07da",
   "metadata": {
    "execution": {
     "iopub.execute_input": "2022-09-13T14:57:57.033458Z",
     "iopub.status.busy": "2022-09-13T14:57:57.032777Z",
     "iopub.status.idle": "2022-09-13T14:57:57.042795Z",
     "shell.execute_reply": "2022-09-13T14:57:57.041645Z"
    },
    "papermill": {
     "duration": 0.026897,
     "end_time": "2022-09-13T14:57:57.045620",
     "exception": false,
     "start_time": "2022-09-13T14:57:57.018723",
     "status": "completed"
    },
    "tags": []
   },
   "outputs": [],
   "source": [
    "# Logistic Regression\n",
    "lr = LogisticRegression(random_state=rs)\n",
    "lr_parameters = {\n",
    "    'penalty': ['l1', 'l2', 'elasticnet'],\n",
    "    'class_weight' : [None, class_weight],\n",
    "    'C' : [0.5, 1, 1.5],\n",
    "    'solver' : ['saga'],\n",
    "    'max_iter': [100]\n",
    "    \n",
    "}\n",
    "\n",
    "# Random Forest\n",
    "rf = RandomForestClassifier(random_state=rs)\n",
    "rf_parameters = { \n",
    "    'n_estimators': [50, 100, 150],\n",
    "    'max_depth' : [5, 10, 15, 20],\n",
    "    'criterion' :['gini', 'entropy']\n",
    "}\n",
    "\n",
    "# ADA Boost\n",
    "ab = AdaBoostClassifier(random_state=rs)\n",
    "ab_parameters = {\n",
    "    'n_estimators': [50, 100, 150], \n",
    "    'algorithm' : ['SAMME', 'SAMME.R'],\n",
    "    'learning_rate' : [0.5, 1, 1.5]\n",
    "}\n",
    "\n",
    "# Support Vector Machines\n",
    "sv = SVC(random_state=rs)\n",
    "sv_parameters = {\n",
    "    'C' : [0.5, 1, 1.5],\n",
    "    'kernel' : ['rbf', 'linear'],\n",
    "    'class_weight' : [None, class_weight]\n",
    "}\n",
    "\n",
    "# K Nearest Neighbors\n",
    "knn = KNeighborsClassifier()\n",
    "knn_parameters = {\n",
    "    'n_neighbors' : [5, 10, 15],\n",
    "    'algorithm' : ['auto', 'ball_tree']\n",
    "}"
   ]
  },
  {
   "cell_type": "code",
   "execution_count": 21,
   "id": "8d49bc2a",
   "metadata": {
    "execution": {
     "iopub.execute_input": "2022-09-13T14:57:57.073614Z",
     "iopub.status.busy": "2022-09-13T14:57:57.073213Z",
     "iopub.status.idle": "2022-09-13T14:57:57.080272Z",
     "shell.execute_reply": "2022-09-13T14:57:57.079121Z"
    },
    "papermill": {
     "duration": 0.023773,
     "end_time": "2022-09-13T14:57:57.082565",
     "exception": false,
     "start_time": "2022-09-13T14:57:57.058792",
     "status": "completed"
    },
    "tags": []
   },
   "outputs": [],
   "source": [
    "# Logistic Regression Gridsearch\n",
    "gs_lr = GridSearchCV(lr, param_grid=lr_parameters, scoring='f1')\n",
    "\n",
    "# Random Forest Gridsearch\n",
    "gs_rf = GridSearchCV(rf, param_grid=rf_parameters, scoring='f1')\n",
    "\n",
    "# ADA Boost Gridsearch\n",
    "gs_ab = GridSearchCV(ab, param_grid=ab_parameters, scoring='f1')\n",
    "\n",
    "# Support Vector Machines Gridsearch\n",
    "gs_sv = GridSearchCV(sv, param_grid=sv_parameters, scoring='f1')\n",
    "\n",
    "# K Nearest Neighbors Gridsearch\n",
    "gs_knn = GridSearchCV(knn, param_grid=knn_parameters, scoring='f1')"
   ]
  },
  {
   "cell_type": "code",
   "execution_count": 22,
   "id": "2f6810c7",
   "metadata": {
    "execution": {
     "iopub.execute_input": "2022-09-13T14:57:57.110201Z",
     "iopub.status.busy": "2022-09-13T14:57:57.109794Z",
     "iopub.status.idle": "2022-09-13T14:57:57.116197Z",
     "shell.execute_reply": "2022-09-13T14:57:57.115296Z"
    },
    "papermill": {
     "duration": 0.023021,
     "end_time": "2022-09-13T14:57:57.118526",
     "exception": false,
     "start_time": "2022-09-13T14:57:57.095505",
     "status": "completed"
    },
    "tags": []
   },
   "outputs": [],
   "source": [
    "def train_evaluate(estimator, name, X_train, X_test, y_train, y_test):\n",
    "    result = {}\n",
    "    result['Estimator'] = name\n",
    "    estimator.fit(X_train, y_train.values.ravel())\n",
    "    y_pred = estimator.predict(X_test)\n",
    "    result['Accuracy'] = accuracy_score(y_true=y_test, y_pred=y_pred)\n",
    "    result['Precision'] = precision_score(y_true=y_test, y_pred=y_pred)\n",
    "    result['Recall'] = recall_score(y_true=y_test, y_pred=y_pred)\n",
    "    result['F1'] = f1_score(y_true=y_test, y_pred=y_pred)\n",
    "    return result"
   ]
  },
  {
   "cell_type": "code",
   "execution_count": 23,
   "id": "b2c72308",
   "metadata": {
    "execution": {
     "iopub.execute_input": "2022-09-13T14:57:57.146551Z",
     "iopub.status.busy": "2022-09-13T14:57:57.145905Z",
     "iopub.status.idle": "2022-09-13T14:57:57.150548Z",
     "shell.execute_reply": "2022-09-13T14:57:57.149699Z"
    },
    "papermill": {
     "duration": 0.020912,
     "end_time": "2022-09-13T14:57:57.152532",
     "exception": false,
     "start_time": "2022-09-13T14:57:57.131620",
     "status": "completed"
    },
    "tags": []
   },
   "outputs": [],
   "source": [
    "results = []"
   ]
  },
  {
   "cell_type": "markdown",
   "id": "39cfee73",
   "metadata": {
    "papermill": {
     "duration": 0.012992,
     "end_time": "2022-09-13T14:57:57.178396",
     "exception": false,
     "start_time": "2022-09-13T14:57:57.165404",
     "status": "completed"
    },
    "tags": []
   },
   "source": [
    "### Run grid searches"
   ]
  },
  {
   "cell_type": "code",
   "execution_count": 24,
   "id": "eed839fb",
   "metadata": {
    "execution": {
     "iopub.execute_input": "2022-09-13T14:57:57.206254Z",
     "iopub.status.busy": "2022-09-13T14:57:57.205262Z",
     "iopub.status.idle": "2022-09-13T14:59:22.518326Z",
     "shell.execute_reply": "2022-09-13T14:59:22.516954Z"
    },
    "papermill": {
     "duration": 85.331098,
     "end_time": "2022-09-13T14:59:22.522435",
     "exception": false,
     "start_time": "2022-09-13T14:57:57.191337",
     "status": "completed"
    },
    "tags": []
   },
   "outputs": [],
   "source": [
    "results.append(train_evaluate(gs_lr, 'Logistic Regression', X_train, X_test, y_train, y_test))"
   ]
  },
  {
   "cell_type": "code",
   "execution_count": 25,
   "id": "42814ce7",
   "metadata": {
    "execution": {
     "iopub.execute_input": "2022-09-13T14:59:22.567329Z",
     "iopub.status.busy": "2022-09-13T14:59:22.566637Z",
     "iopub.status.idle": "2022-09-13T15:07:02.463180Z",
     "shell.execute_reply": "2022-09-13T15:07:02.461829Z"
    },
    "papermill": {
     "duration": 459.921754,
     "end_time": "2022-09-13T15:07:02.466478",
     "exception": false,
     "start_time": "2022-09-13T14:59:22.544724",
     "status": "completed"
    },
    "tags": []
   },
   "outputs": [],
   "source": [
    "results.append(train_evaluate(gs_rf, 'Random Forest', X_train, X_test, y_train, y_test))"
   ]
  },
  {
   "cell_type": "code",
   "execution_count": 26,
   "id": "302a588a",
   "metadata": {
    "execution": {
     "iopub.execute_input": "2022-09-13T15:07:02.495185Z",
     "iopub.status.busy": "2022-09-13T15:07:02.494511Z",
     "iopub.status.idle": "2022-09-13T15:16:49.595145Z",
     "shell.execute_reply": "2022-09-13T15:16:49.593691Z"
    },
    "papermill": {
     "duration": 587.118428,
     "end_time": "2022-09-13T15:16:49.597867",
     "exception": false,
     "start_time": "2022-09-13T15:07:02.479439",
     "status": "completed"
    },
    "tags": []
   },
   "outputs": [],
   "source": [
    "results.append(train_evaluate(gs_ab, 'ADA Boost', X_train, X_test, y_train, y_test))"
   ]
  },
  {
   "cell_type": "code",
   "execution_count": 27,
   "id": "ac0fa4cd",
   "metadata": {
    "execution": {
     "iopub.execute_input": "2022-09-13T15:16:49.625810Z",
     "iopub.status.busy": "2022-09-13T15:16:49.625155Z",
     "iopub.status.idle": "2022-09-13T15:25:54.836789Z",
     "shell.execute_reply": "2022-09-13T15:25:54.835440Z"
    },
    "papermill": {
     "duration": 545.228881,
     "end_time": "2022-09-13T15:25:54.839874",
     "exception": false,
     "start_time": "2022-09-13T15:16:49.610993",
     "status": "completed"
    },
    "tags": []
   },
   "outputs": [],
   "source": [
    "results.append(train_evaluate(gs_sv, 'Support Vector Machines', X_train, X_test, y_train, y_test))"
   ]
  },
  {
   "cell_type": "code",
   "execution_count": 28,
   "id": "9ce86a0e",
   "metadata": {
    "execution": {
     "iopub.execute_input": "2022-09-13T15:25:54.868228Z",
     "iopub.status.busy": "2022-09-13T15:25:54.867592Z",
     "iopub.status.idle": "2022-09-13T15:26:21.216641Z",
     "shell.execute_reply": "2022-09-13T15:26:21.215494Z"
    },
    "papermill": {
     "duration": 26.366785,
     "end_time": "2022-09-13T15:26:21.219731",
     "exception": false,
     "start_time": "2022-09-13T15:25:54.852946",
     "status": "completed"
    },
    "tags": []
   },
   "outputs": [],
   "source": [
    "results.append(train_evaluate(gs_knn, 'K Nearest Neighbors', X_train, X_test, y_train, y_test))"
   ]
  },
  {
   "cell_type": "code",
   "execution_count": 39,
   "id": "bbd52c31",
   "metadata": {},
   "outputs": [
    {
     "data": {
      "text/plain": [
       "['../out/knn_model.joblib']"
      ]
     },
     "execution_count": 39,
     "metadata": {},
     "output_type": "execute_result"
    }
   ],
   "source": [
    "from joblib import dump\n",
    "\n",
    "dump(gs_lr, '../out/logistic_regression_model.joblib')\n",
    "dump(gs_rf, '../out/random_forest_model.joblib')\n",
    "dump(gs_ab, '../out/ada_boost_model.joblib')\n",
    "dump(gs_sv, '../out/svm_model.joblib')\n",
    "dump(gs_knn, '../out/knn_model.joblib')"
   ]
  },
  {
   "cell_type": "code",
   "execution_count": 29,
   "id": "4fe736d3",
   "metadata": {},
   "outputs": [
    {
     "data": {
      "text/html": [
       "<div>\n",
       "<style scoped>\n",
       "    .dataframe tbody tr th:only-of-type {\n",
       "        vertical-align: middle;\n",
       "    }\n",
       "\n",
       "    .dataframe tbody tr th {\n",
       "        vertical-align: top;\n",
       "    }\n",
       "\n",
       "    .dataframe thead th {\n",
       "        text-align: right;\n",
       "    }\n",
       "</style>\n",
       "<table border=\"1\" class=\"dataframe\">\n",
       "  <thead>\n",
       "    <tr style=\"text-align: right;\">\n",
       "      <th></th>\n",
       "      <th>Estimator</th>\n",
       "      <th>Accuracy</th>\n",
       "      <th>Precision</th>\n",
       "      <th>Recall</th>\n",
       "      <th>F1</th>\n",
       "    </tr>\n",
       "  </thead>\n",
       "  <tbody>\n",
       "    <tr>\n",
       "      <th>0</th>\n",
       "      <td>Logistic Regression</td>\n",
       "      <td>0.988424</td>\n",
       "      <td>0.993499</td>\n",
       "      <td>0.990280</td>\n",
       "      <td>0.991887</td>\n",
       "    </tr>\n",
       "    <tr>\n",
       "      <th>1</th>\n",
       "      <td>Random Forest</td>\n",
       "      <td>1.000000</td>\n",
       "      <td>1.000000</td>\n",
       "      <td>1.000000</td>\n",
       "      <td>1.000000</td>\n",
       "    </tr>\n",
       "    <tr>\n",
       "      <th>2</th>\n",
       "      <td>ADA Boost</td>\n",
       "      <td>0.999920</td>\n",
       "      <td>1.000000</td>\n",
       "      <td>0.999888</td>\n",
       "      <td>0.999944</td>\n",
       "    </tr>\n",
       "    <tr>\n",
       "      <th>3</th>\n",
       "      <td>Support Vector Machines</td>\n",
       "      <td>0.999601</td>\n",
       "      <td>0.999553</td>\n",
       "      <td>0.999888</td>\n",
       "      <td>0.999721</td>\n",
       "    </tr>\n",
       "    <tr>\n",
       "      <th>4</th>\n",
       "      <td>K Nearest Neighbors</td>\n",
       "      <td>0.999920</td>\n",
       "      <td>1.000000</td>\n",
       "      <td>0.999888</td>\n",
       "      <td>0.999944</td>\n",
       "    </tr>\n",
       "  </tbody>\n",
       "</table>\n",
       "</div>"
      ],
      "text/plain": [
       "                 Estimator  Accuracy  Precision    Recall        F1\n",
       "0      Logistic Regression  0.988424   0.993499  0.990280  0.991887\n",
       "1            Random Forest  1.000000   1.000000  1.000000  1.000000\n",
       "2                ADA Boost  0.999920   1.000000  0.999888  0.999944\n",
       "3  Support Vector Machines  0.999601   0.999553  0.999888  0.999721\n",
       "4      K Nearest Neighbors  0.999920   1.000000  0.999888  0.999944"
      ]
     },
     "execution_count": 29,
     "metadata": {},
     "output_type": "execute_result"
    }
   ],
   "source": [
    "results = pd.DataFrame(results)\n",
    "results"
   ]
  },
  {
   "cell_type": "markdown",
   "id": "7ea5af4a",
   "metadata": {},
   "source": [
    "## Test"
   ]
  },
  {
   "cell_type": "code",
   "execution_count": 40,
   "id": "662c0ce5",
   "metadata": {},
   "outputs": [
    {
     "name": "stdout",
     "output_type": "stream",
     "text": [
      "{'Accuracy': 0.9999201660546064, 'Precision': 1.0, 'Recall': 0.9998882806390348, 'F1': 0.9999441371990392}\n",
      "{'Accuracy': 0.9999201660546064, 'Precision': 1.0, 'Recall': 0.9998882806390348, 'F1': 0.9999441371990392}\n",
      "{'Accuracy': 0.9884240779179307, 'Precision': 0.993499215422551, 'Recall': 0.9902804155960228, 'F1': 0.9918872041627035}\n",
      "{'Accuracy': 1.0, 'Precision': 1.0, 'Recall': 1.0, 'F1': 1.0}\n",
      "{'Accuracy': 0.9996008302730321, 'Precision': 0.999553272280545, 'Recall': 0.9998882806390348, 'F1': 0.9997207483943032}\n"
     ]
    }
   ],
   "source": [
    "from joblib import load\n",
    "\n",
    "def test(model, X_test=X_test, y_test=y_test):\n",
    "    result = {}\n",
    "    y_pred = model.predict(X_test)\n",
    "    result['Accuracy'] = accuracy_score(y_true=y_test, y_pred=y_pred)\n",
    "    result['Precision'] = precision_score(y_true=y_test, y_pred=y_pred)\n",
    "    result['Recall'] = recall_score(y_true=y_test, y_pred=y_pred)\n",
    "    result['F1'] = f1_score(y_true=y_test, y_pred=y_pred)\n",
    "    print(result)\n",
    "\n",
    "ada_boost_model = load('../out/ada_boost_model.joblib')\n",
    "knn_model = load('../out/knn_model.joblib')\n",
    "logistic_regression_model = load('../out/logistic_regression_model.joblib')\n",
    "random_forest_model = load('../out/random_forest_model.joblib')\n",
    "svm_model = load('../out/svm_model.joblib')\n",
    "\n",
    "test(ada_boost_model)\n",
    "test(knn_model)\n",
    "test(logistic_regression_model)\n",
    "test(random_forest_model)\n",
    "test(svm_model)"
   ]
  },
  {
   "cell_type": "markdown",
   "id": "d7b70e8e",
   "metadata": {
    "papermill": {
     "duration": 0.012811,
     "end_time": "2022-09-13T15:26:21.290383",
     "exception": false,
     "start_time": "2022-09-13T15:26:21.277572",
     "status": "completed"
    },
    "tags": []
   },
   "source": [
    "## Choosing the best model\n",
    "\n",
    "Looking at the table above, it is clear that the random forest classifier scored the highest across all evaluation metrics. Hence, it is the best model to choose."
   ]
  },
  {
   "cell_type": "markdown",
   "id": "dfcc7811",
   "metadata": {
    "papermill": {
     "duration": 0.012505,
     "end_time": "2022-09-13T15:26:21.316225",
     "exception": false,
     "start_time": "2022-09-13T15:26:21.303720",
     "status": "completed"
    },
    "tags": []
   },
   "source": [
    "## Insights\n",
    "\n",
    "Eventhough the random forest classifier scored a perfect score at all metrics, we still need to test this model on a larger dataset with more randomness, to ensure that there are no data leakage or overfitting is occured"
   ]
  },
  {
   "cell_type": "markdown",
   "id": "f6c0b315",
   "metadata": {
    "papermill": {
     "duration": 0.01255,
     "end_time": "2022-09-13T15:26:21.341480",
     "exception": false,
     "start_time": "2022-09-13T15:26:21.328930",
     "status": "completed"
    },
    "tags": []
   },
   "source": [
    "## Suggestions\n",
    "\n",
    "Train and test the random forest classifier on a larger dataset or use pickle to store the current model and test it on future incomming data"
   ]
  }
 ],
 "metadata": {
  "kernelspec": {
   "display_name": "Python 3",
   "language": "python",
   "name": "python3"
  },
  "language_info": {
   "codemirror_mode": {
    "name": "ipython",
    "version": 3
   },
   "file_extension": ".py",
   "mimetype": "text/x-python",
   "name": "python",
   "nbconvert_exporter": "python",
   "pygments_lexer": "ipython3",
   "version": "3.12.6"
  },
  "papermill": {
   "default_parameters": {},
   "duration": 1718.815626,
   "end_time": "2022-09-13T15:26:22.180859",
   "environment_variables": {},
   "exception": null,
   "input_path": "__notebook__.ipynb",
   "output_path": "__notebook__.ipynb",
   "parameters": {},
   "start_time": "2022-09-13T14:57:43.365233",
   "version": "2.3.4"
  }
 },
 "nbformat": 4,
 "nbformat_minor": 5
}
